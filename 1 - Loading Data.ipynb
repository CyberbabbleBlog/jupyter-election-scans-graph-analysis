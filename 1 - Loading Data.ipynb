{
 "cells": [
  {
   "cell_type": "markdown",
   "metadata": {},
   "source": [
    "# Election Scan Data\n",
    "\n",
    "This project contains example data for a web scanning tool.  The tool records potential fake sites revolving around the 2016 elextion.  The CSV files we have is a subsed of the IP addresses recorded when registering a 'Hit'.  The goal is to try and dig deeper into how some of these 'Hits' may be related by looking at the IP paths, or 'Hops', taken to get to a given URL.\n",
    "\n",
    "We plan to achieve this by taking our sample data and loading it into a graph database.  A graph database is a perfect way to express this type of connected data.  We will, in the end, want to end up with a graph schema resembeling the following illustration:\n",
    "\n",
    "<div align=\"left\">\n",
    "    <img src=\"images/graph_model.png\" alt=\"Graph Model\" width=\"500px\" align=\"center\"/>\n",
    "</div>\n",
    "\n",
    "Each scan will have multiple streams of 'Hits' and 'Hops' that are generated.  Each 'Hit' represents a URL, or website, that responded with a 200.  A redirect scenario can be seen if a 'Hit' resulted in other 'Hops' as well.\n",
    "\n",
    "To begin, we need to create a python code context to read our CSV files, connect to our graph database (we will be using Neo4J), and import our data."
   ]
  },
  {
   "cell_type": "code",
   "execution_count": 1,
   "metadata": {},
   "outputs": [],
   "source": [
    "# Import os utilities\n",
    "import os\n",
    "\n",
    "# Import Python 2 Neo4J Package\n",
    "from py2neo import Graph\n",
    "\n",
    "# Connect to our Graph database, ensure connectivity, and store connection in variable.\n",
    "graph = Graph(\"bolt://localhost\", auth=(\"neo4j\", \"neo4j\"));\n",
    "\n",
    "# Set up a local path reference\n",
    "rel_path = os.getcwd()\n",
    "\n",
    "# If you want to clear your database and start fresh, uncomment the line below.\n",
    "# BE SURE TO CHECK WHAT DATABASE YOU ARE RUNNING THIS AGAINST.\n",
    "# MORE CAPITAL LETTERS TO EMPHASIZE THE POINT ABOVE.\n",
    "# graph.run(\"MATCH (d) DETACH DELETE (d)\").summary().counters"
   ]
  },
  {
   "cell_type": "markdown",
   "metadata": {},
   "source": [
    "## Data CSV Files\n",
    "\n",
    "Here we are setting up variables pointing to the CSV files we have stored on our machine."
   ]
  },
  {
   "cell_type": "code",
   "execution_count": 53,
   "metadata": {},
   "outputs": [],
   "source": [
    "# This file contains scans our tool ran on presidential candidates.\n",
    "scans_file = \"file:\" + os.path.join(rel_path, \"Scans.csv\");\n",
    "\n",
    "# This file contains the logs of the IP addresses the tool encountered while getting to each URL.\n",
    "hops_file = \"file:\" + os.path.join(rel_path, \"Hops.csv\");"
   ]
  },
  {
   "cell_type": "markdown",
   "metadata": {},
   "source": [
    "Let's see what the structure of the data looks like by using the `LOAD CSV` comment in Neo4J.  We will load each file and show the row of data as an example.\n",
    "\n",
    "NOTE: If you get an error running the command below, try commenting out the `dbms.directories.import` line in your graph databases configuration file.  Make sure to uncomment the line when you are done as this is not secure."
   ]
  },
  {
   "cell_type": "code",
   "execution_count": 54,
   "metadata": {},
   "outputs": [
    {
     "name": "stdout",
     "output_type": "stream",
     "text": [
      "Example scan:\n"
     ]
    },
    {
     "data": {
      "text/plain": [
       "[{'scan': {'include_typos': '1',\n",
       "   'combination_level': '3',\n",
       "   'id': '1',\n",
       "   'type': 'election',\n",
       "   'terms': 'Barak,Obama'}}]"
      ]
     },
     "execution_count": 54,
     "metadata": {},
     "output_type": "execute_result"
    }
   ],
   "source": [
    "scans_csv_query = \"\"\"LOAD CSV WITH HEADERS FROM $scansFile AS scan RETURN scan LIMIT 1 \"\"\"\n",
    "print(\"Example scan:\");\n",
    "graph.run(scans_csv_query, { \"scansFile\": scans_file }).data()"
   ]
  },
  {
   "cell_type": "code",
   "execution_count": 55,
   "metadata": {},
   "outputs": [
    {
     "name": "stdout",
     "output_type": "stream",
     "text": [
      "Example hop:\n"
     ]
    },
    {
     "data": {
      "text/plain": [
       "[{'hop': {'last_ip': None,\n",
       "   'ip': '254.247.245.171',\n",
       "   'scan_id': '1',\n",
       "   'id': '1',\n",
       "   'url': None,\n",
       "   'order': '1',\n",
       "   'test_id': 'dcc90b36-7ea3-4450-a7c7-0775fffaaaad'}}]"
      ]
     },
     "execution_count": 55,
     "metadata": {},
     "output_type": "execute_result"
    }
   ],
   "source": [
    "hops_csv_query = \"\"\"LOAD CSV WITH HEADERS FROM $hopsFile AS hop RETURN hop LIMIT 1 \"\"\"\n",
    "print(\"Example hop:\");\n",
    "graph.run(hops_csv_query, { \"hopsFile\": hops_file }).data()"
   ]
  },
  {
   "cell_type": "markdown",
   "metadata": {},
   "source": [
    "## Importing Scans\n",
    "\n",
    "Next, we want to import the scans our tool ran.  These will be our initial nodes identifying the information that generated any hits we may have encountered."
   ]
  },
  {
   "cell_type": "code",
   "execution_count": 60,
   "metadata": {},
   "outputs": [
    {
     "data": {
      "text/plain": [
       "{}"
      ]
     },
     "metadata": {},
     "output_type": "display_data"
    },
    {
     "data": {
      "text/plain": [
       "{'properties_set': 8}"
      ]
     },
     "metadata": {},
     "output_type": "display_data"
    }
   ],
   "source": [
    "constraint_query = \"\"\"\n",
    "CREATE CONSTRAINT ON (s:Scan)\n",
    "ASSERT s.id IS UNIQUE\n",
    "\"\"\"\n",
    "\n",
    "import_query = \"\"\"\n",
    "LOAD CSV WITH HEADERS FROM $scansFile AS scan\n",
    "WITH scan WHERE scan.id IS NOT NULL\n",
    "MERGE (s:Scan { id: scan.id })\n",
    "SET s.terms = scan.terms,\n",
    "    s.include_typos = toInt(scan.combination_level),\n",
    "    s.combination_level = toInt(scan.combination_level),\n",
    "    s.type = scan.type\n",
    "\"\"\"\n",
    "\n",
    "display(graph.run(constraint_query).summary().counters)\n",
    "display(graph.run(import_query, { \"scansFile\": scans_file }).summary().counters)"
   ]
  },
  {
   "cell_type": "markdown",
   "metadata": {},
   "source": [
    "## Importing Hops\n",
    "\n",
    "Next, we want to import the 'Hops' our tool ran.  These represent the paths taken when requesting a URL from the scan tool.  Note the data may have gaps in the hops. This is seen in the `order` column within the CSV file.  This means the tool was able to reach a 'Hit'.  These gaps will be filled in and the 'Hops' will be connected once we import the 'Hit' data later."
   ]
  },
  {
   "cell_type": "code",
   "execution_count": 57,
   "metadata": {},
   "outputs": [
    {
     "data": {
      "text/plain": [
       "{}"
      ]
     },
     "metadata": {},
     "output_type": "display_data"
    },
    {
     "data": {
      "text/plain": [
       "{}"
      ]
     },
     "metadata": {},
     "output_type": "display_data"
    }
   ],
   "source": [
    "constraint_query = \"\"\"\n",
    "CREATE CONSTRAINT ON (h:Hop)\n",
    "ASSERT h.ip IS UNIQUE;\n",
    "\"\"\"\n",
    "\n",
    "import_query = \"\"\"\n",
    "USING PERIODIC COMMIT 1\n",
    "LOAD CSV WITH HEADERS FROM $hopsFile AS hop\n",
    "WITH hop WHERE hop.id IS NOT NULL\n",
    "MATCH (s:Scan { id: hop.scan_id })\n",
    "WITH hop, s\n",
    "FOREACH (ift in CASE WHEN hop.url IS NULL OR hop.url = '' THEN [1] ELSE [] END |\n",
    "    MERGE (h:Hop { ip: hop.ip })\n",
    ")\n",
    "FOREACH (ift in CASE WHEN hop.url <> '' THEN [1] ELSE [] END |\n",
    "    MERGE (h:Hit { ip: hop.ip, url: hop.url })\n",
    ")\n",
    "WITH hop, s\n",
    "MATCH (h { ip: hop.ip })\n",
    "WITH hop, s, h\n",
    "FOREACH (ift in CASE WHEN hop.order = '1' THEN [1] ELSE [] END |\n",
    "    MERGE (s)-[:RESULTED_IN{ test_id: hop.test_id }]->(h)\n",
    ")\n",
    "WITH hop, s, h\n",
    "MATCH (hh { ip: hop.last_ip })\n",
    "WITH hop, s, h, hh\n",
    "FOREACH (ift in CASE WHEN hop.last_ip <> '' THEN [1] ELSE [] END |\n",
    "    MERGE (hh)-[:RESULTED_IN{ test_id: hop.test_id }]->(h)\n",
    ")\n",
    "\"\"\"\n",
    "\n",
    "display(graph.run(constraint_query).summary().counters)\n",
    "display(graph.run(import_query, { \"hopsFile\": hops_file }).summary().counters)"
   ]
  },
  {
   "cell_type": "markdown",
   "metadata": {},
   "source": [
    "## All Done With Data Import!\n",
    "\n",
    "Now we should have all the example data represented in our graph schema.  Try looking at one of the test paths by running the query below.  The query will disply the entire sequence of events from our 'Scan' to a 'Hit'"
   ]
  },
  {
   "cell_type": "code",
   "execution_count": 50,
   "metadata": {},
   "outputs": [
    {
     "data": {
      "text/html": [
       "<div>\n",
       "<style scoped>\n",
       "    .dataframe tbody tr th:only-of-type {\n",
       "        vertical-align: middle;\n",
       "    }\n",
       "\n",
       "    .dataframe tbody tr th {\n",
       "        vertical-align: top;\n",
       "    }\n",
       "\n",
       "    .dataframe thead th {\n",
       "        text-align: right;\n",
       "    }\n",
       "</style>\n",
       "<table border=\"1\" class=\"dataframe\">\n",
       "  <thead>\n",
       "    <tr style=\"text-align: right;\">\n",
       "      <th></th>\n",
       "      <th>IP</th>\n",
       "      <th>Scan_ID</th>\n",
       "      <th>Scan_Terms</th>\n",
       "      <th>URL</th>\n",
       "    </tr>\n",
       "  </thead>\n",
       "  <tbody>\n",
       "    <tr>\n",
       "      <th>0</th>\n",
       "      <td>56.232.166.204</td>\n",
       "      <td>2</td>\n",
       "      <td>Donald,Trump</td>\n",
       "      <td>None</td>\n",
       "    </tr>\n",
       "    <tr>\n",
       "      <th>1</th>\n",
       "      <td>217.160.146.153</td>\n",
       "      <td>2</td>\n",
       "      <td>Donald,Trump</td>\n",
       "      <td>None</td>\n",
       "    </tr>\n",
       "    <tr>\n",
       "      <th>2</th>\n",
       "      <td>84.215.192.77</td>\n",
       "      <td>2</td>\n",
       "      <td>Donald,Trump</td>\n",
       "      <td>None</td>\n",
       "    </tr>\n",
       "    <tr>\n",
       "      <th>3</th>\n",
       "      <td>59.214.2.129</td>\n",
       "      <td>2</td>\n",
       "      <td>Donald,Trump</td>\n",
       "      <td>None</td>\n",
       "    </tr>\n",
       "    <tr>\n",
       "      <th>4</th>\n",
       "      <td>211.9.200.184</td>\n",
       "      <td>2</td>\n",
       "      <td>Donald,Trump</td>\n",
       "      <td>None</td>\n",
       "    </tr>\n",
       "    <tr>\n",
       "      <th>5</th>\n",
       "      <td>140.221.166.199</td>\n",
       "      <td>2</td>\n",
       "      <td>Donald,Trump</td>\n",
       "      <td>None</td>\n",
       "    </tr>\n",
       "    <tr>\n",
       "      <th>6</th>\n",
       "      <td>77.23.45.16</td>\n",
       "      <td>2</td>\n",
       "      <td>Donald,Trump</td>\n",
       "      <td>http://www.preztrump2016.com/</td>\n",
       "    </tr>\n",
       "  </tbody>\n",
       "</table>\n",
       "</div>"
      ],
      "text/plain": [
       "                IP Scan_ID    Scan_Terms                            URL\n",
       "0   56.232.166.204       2  Donald,Trump                           None\n",
       "1  217.160.146.153       2  Donald,Trump                           None\n",
       "2    84.215.192.77       2  Donald,Trump                           None\n",
       "3     59.214.2.129       2  Donald,Trump                           None\n",
       "4    211.9.200.184       2  Donald,Trump                           None\n",
       "5  140.221.166.199       2  Donald,Trump                           None\n",
       "6      77.23.45.16       2  Donald,Trump  http://www.preztrump2016.com/"
      ]
     },
     "execution_count": 50,
     "metadata": {},
     "output_type": "execute_result"
    }
   ],
   "source": [
    "query = \"\"\"\n",
    "MATCH (s:Scan)-[r:RESULTED_IN* { test_id: '3c70533f-78c6-4d63-80b8-763d9d3b4b18' }]->(h)\n",
    "RETURN s.id AS Scan_ID, s.terms AS Scan_Terms, h.ip AS IP, h.url AS URL\n",
    "\"\"\"\n",
    "\n",
    "graph.run(query).to_data_frame()"
   ]
  },
  {
   "cell_type": "markdown",
   "metadata": {},
   "source": [
    "If you run the query within the Neo4J browser, you will get something resembling the following visualization:\n",
    "<div align=\"left\">\n",
    "    <img src=\"images/sample_path_data_import.png\" alt=\"Graph Model\" width=\"700px\" align=\"center\"/>\n",
    "</div>"
   ]
  },
  {
   "cell_type": "code",
   "execution_count": null,
   "metadata": {},
   "outputs": [],
   "source": []
  }
 ],
 "metadata": {
  "kernelspec": {
   "display_name": "Python 3",
   "language": "python",
   "name": "python3"
  },
  "language_info": {
   "codemirror_mode": {
    "name": "ipython",
    "version": 3
   },
   "file_extension": ".py",
   "mimetype": "text/x-python",
   "name": "python",
   "nbconvert_exporter": "python",
   "pygments_lexer": "ipython3",
   "version": "3.7.0"
  }
 },
 "nbformat": 4,
 "nbformat_minor": 2
}
