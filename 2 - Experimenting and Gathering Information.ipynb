{
 "cells": [
  {
   "cell_type": "markdown",
   "metadata": {},
   "source": [
    "# Dataset Exploration\n",
    "\n",
    "Let's run a few queries against our database to attempt to understand what information we have.  First, we need to set up a few contextual variables."
   ]
  },
  {
   "cell_type": "code",
   "execution_count": 39,
   "metadata": {},
   "outputs": [],
   "source": [
    "import pandas as pd\n",
    "from py2neo import Graph\n",
    "\n",
    "# Connect to our Graph database, ensure connectivity, and store connection in variable.\n",
    "graph = Graph(\"bolt://localhost\", auth=(\"neo4j\", \"neo4j\"));"
   ]
  },
  {
   "cell_type": "markdown",
   "metadata": {},
   "source": [
    "Now, we can run a simple query to give us our first look into the dataset.  The below query will give us all of our different node types and how many of those types we have."
   ]
  },
  {
   "cell_type": "code",
   "execution_count": 5,
   "metadata": {},
   "outputs": [
    {
     "data": {
      "text/html": [
       "<div>\n",
       "<style scoped>\n",
       "    .dataframe tbody tr th:only-of-type {\n",
       "        vertical-align: middle;\n",
       "    }\n",
       "\n",
       "    .dataframe tbody tr th {\n",
       "        vertical-align: top;\n",
       "    }\n",
       "\n",
       "    .dataframe thead th {\n",
       "        text-align: right;\n",
       "    }\n",
       "</style>\n",
       "<table border=\"1\" class=\"dataframe\">\n",
       "  <thead>\n",
       "    <tr style=\"text-align: right;\">\n",
       "      <th></th>\n",
       "      <th>label</th>\n",
       "      <th>count</th>\n",
       "    </tr>\n",
       "  </thead>\n",
       "  <tbody>\n",
       "    <tr>\n",
       "      <th>0</th>\n",
       "      <td>Scan</td>\n",
       "      <td>2</td>\n",
       "    </tr>\n",
       "    <tr>\n",
       "      <th>2</th>\n",
       "      <td>Hit</td>\n",
       "      <td>9</td>\n",
       "    </tr>\n",
       "    <tr>\n",
       "      <th>1</th>\n",
       "      <td>Hop</td>\n",
       "      <td>61</td>\n",
       "    </tr>\n",
       "  </tbody>\n",
       "</table>\n",
       "</div>"
      ],
      "text/plain": [
       "  label  count\n",
       "0  Scan      2\n",
       "2   Hit      9\n",
       "1   Hop     61"
      ]
     },
     "execution_count": 5,
     "metadata": {},
     "output_type": "execute_result"
    }
   ],
   "source": [
    "result = {\"label\": [], \"count\": []}\n",
    "for label in graph.run(\"CALL db.labels()\").to_series():\n",
    "    query = f\"MATCH (:`{label}`) RETURN count(*) as count\"\n",
    "    count = graph.run(query).to_data_frame().iloc[0]['count']\n",
    "    result[\"label\"].append(label)\n",
    "    result[\"count\"].append(count)\n",
    "nodes_df = pd.DataFrame(data=result)\n",
    "nodes_df.sort_values(\"count\")"
   ]
  },
  {
   "cell_type": "markdown",
   "metadata": {},
   "source": [
    "The table above shows we have two scans that resulted in 9 'Hits' and 61 'Hops'.  At first glance, we may be quick to assume 9 'Hits' means we ended up at nine different sites.  What about a redirect scenario?  How can we detect if a 'Hit' resulted in a redirect or not?  Below is a list containing all of the 'Hits' we encountered:"
   ]
  },
  {
   "cell_type": "code",
   "execution_count": 16,
   "metadata": {},
   "outputs": [
    {
     "data": {
      "text/html": [
       "<div>\n",
       "<style scoped>\n",
       "    .dataframe tbody tr th:only-of-type {\n",
       "        vertical-align: middle;\n",
       "    }\n",
       "\n",
       "    .dataframe tbody tr th {\n",
       "        vertical-align: top;\n",
       "    }\n",
       "\n",
       "    .dataframe thead th {\n",
       "        text-align: right;\n",
       "    }\n",
       "</style>\n",
       "<table border=\"1\" class=\"dataframe\">\n",
       "  <thead>\n",
       "    <tr style=\"text-align: right;\">\n",
       "      <th></th>\n",
       "      <th>IP</th>\n",
       "      <th>URL</th>\n",
       "    </tr>\n",
       "  </thead>\n",
       "  <tbody>\n",
       "    <tr>\n",
       "      <th>0</th>\n",
       "      <td>77.23.22.15</td>\n",
       "      <td>http://www.prezbolak2016.com/</td>\n",
       "    </tr>\n",
       "    <tr>\n",
       "      <th>1</th>\n",
       "      <td>77.23.45.22</td>\n",
       "      <td>http://www.prezbarak2016.com/</td>\n",
       "    </tr>\n",
       "    <tr>\n",
       "      <th>2</th>\n",
       "      <td>77.23.22.01</td>\n",
       "      <td>http://www.prezobama2016.com/</td>\n",
       "    </tr>\n",
       "    <tr>\n",
       "      <th>3</th>\n",
       "      <td>230.24.41.120</td>\n",
       "      <td>http://www.notmyobama.com/</td>\n",
       "    </tr>\n",
       "    <tr>\n",
       "      <th>4</th>\n",
       "      <td>112.43.82.28</td>\n",
       "      <td>http://www.thumpforpresident.com/</td>\n",
       "    </tr>\n",
       "    <tr>\n",
       "      <th>5</th>\n",
       "      <td>77.23.45.16</td>\n",
       "      <td>http://www.preztrump2016.com/</td>\n",
       "    </tr>\n",
       "    <tr>\n",
       "      <th>6</th>\n",
       "      <td>25.231.67.78</td>\n",
       "      <td>http://www.superdonald2016.com/</td>\n",
       "    </tr>\n",
       "    <tr>\n",
       "      <th>7</th>\n",
       "      <td>145.34.33.120</td>\n",
       "      <td>http://www.thedonld4prez.com/</td>\n",
       "    </tr>\n",
       "    <tr>\n",
       "      <th>8</th>\n",
       "      <td>145.34.33.130</td>\n",
       "      <td>http://www.notmytrump.com/</td>\n",
       "    </tr>\n",
       "  </tbody>\n",
       "</table>\n",
       "</div>"
      ],
      "text/plain": [
       "              IP                                URL\n",
       "0    77.23.22.15      http://www.prezbolak2016.com/\n",
       "1    77.23.45.22      http://www.prezbarak2016.com/\n",
       "2    77.23.22.01      http://www.prezobama2016.com/\n",
       "3  230.24.41.120         http://www.notmyobama.com/\n",
       "4   112.43.82.28  http://www.thumpforpresident.com/\n",
       "5    77.23.45.16      http://www.preztrump2016.com/\n",
       "6   25.231.67.78    http://www.superdonald2016.com/\n",
       "7  145.34.33.120      http://www.thedonld4prez.com/\n",
       "8  145.34.33.130         http://www.notmytrump.com/"
      ]
     },
     "execution_count": 16,
     "metadata": {},
     "output_type": "execute_result"
    }
   ],
   "source": [
    "query = \"\"\"\n",
    "MATCH (h:Hit)\n",
    "RETURN h.url as URL, h.ip AS IP\n",
    "\"\"\"\n",
    "\n",
    "graph.run(query).to_data_frame()"
   ]
  },
  {
   "cell_type": "markdown",
   "metadata": {},
   "source": [
    "Knowing we may have some 'Hits' that resulted in redirects, it would be nice to know which ones were the result of a redirect, but did not redirect themselves."
   ]
  },
  {
   "cell_type": "code",
   "execution_count": 26,
   "metadata": {},
   "outputs": [
    {
     "data": {
      "text/html": [
       "<div>\n",
       "<style scoped>\n",
       "    .dataframe tbody tr th:only-of-type {\n",
       "        vertical-align: middle;\n",
       "    }\n",
       "\n",
       "    .dataframe tbody tr th {\n",
       "        vertical-align: top;\n",
       "    }\n",
       "\n",
       "    .dataframe thead th {\n",
       "        text-align: right;\n",
       "    }\n",
       "</style>\n",
       "<table border=\"1\" class=\"dataframe\">\n",
       "  <thead>\n",
       "    <tr style=\"text-align: right;\">\n",
       "      <th></th>\n",
       "      <th>IP</th>\n",
       "      <th>URL</th>\n",
       "    </tr>\n",
       "  </thead>\n",
       "  <tbody>\n",
       "    <tr>\n",
       "      <th>0</th>\n",
       "      <td>77.23.45.22</td>\n",
       "      <td>http://www.prezbarak2016.com/</td>\n",
       "    </tr>\n",
       "    <tr>\n",
       "      <th>1</th>\n",
       "      <td>145.34.33.120</td>\n",
       "      <td>http://www.thedonld4prez.com/</td>\n",
       "    </tr>\n",
       "    <tr>\n",
       "      <th>2</th>\n",
       "      <td>145.34.33.130</td>\n",
       "      <td>http://www.notmytrump.com/</td>\n",
       "    </tr>\n",
       "  </tbody>\n",
       "</table>\n",
       "</div>"
      ],
      "text/plain": [
       "              IP                            URL\n",
       "0    77.23.45.22  http://www.prezbarak2016.com/\n",
       "1  145.34.33.120  http://www.thedonld4prez.com/\n",
       "2  145.34.33.130     http://www.notmytrump.com/"
      ]
     },
     "execution_count": 26,
     "metadata": {},
     "output_type": "execute_result"
    }
   ],
   "source": [
    "query = \"\"\"\n",
    "MATCH p=(h:Hit)-[r:RESULTED_IN*]->(hh:Hit)\n",
    "WITH DISTINCT last(nodes(p)) as nodes\n",
    "RETURN nodes.url as URL, nodes.ip AS IP\n",
    "\"\"\"\n",
    "\n",
    "graph.run(query).to_data_frame()"
   ]
  },
  {
   "cell_type": "markdown",
   "metadata": {},
   "source": [
    "While knowing what websites were the end of a series of 'Hops', we could also find out which 'Hits' result in  redirects."
   ]
  },
  {
   "cell_type": "code",
   "execution_count": 24,
   "metadata": {},
   "outputs": [
    {
     "data": {
      "text/html": [
       "<div>\n",
       "<style scoped>\n",
       "    .dataframe tbody tr th:only-of-type {\n",
       "        vertical-align: middle;\n",
       "    }\n",
       "\n",
       "    .dataframe tbody tr th {\n",
       "        vertical-align: top;\n",
       "    }\n",
       "\n",
       "    .dataframe thead th {\n",
       "        text-align: right;\n",
       "    }\n",
       "</style>\n",
       "<table border=\"1\" class=\"dataframe\">\n",
       "  <thead>\n",
       "    <tr style=\"text-align: right;\">\n",
       "      <th></th>\n",
       "      <th>IP</th>\n",
       "      <th>URL</th>\n",
       "    </tr>\n",
       "  </thead>\n",
       "  <tbody>\n",
       "    <tr>\n",
       "      <th>0</th>\n",
       "      <td>77.23.22.15</td>\n",
       "      <td>http://www.prezbolak2016.com/</td>\n",
       "    </tr>\n",
       "    <tr>\n",
       "      <th>1</th>\n",
       "      <td>77.23.22.01</td>\n",
       "      <td>http://www.prezobama2016.com/</td>\n",
       "    </tr>\n",
       "    <tr>\n",
       "      <th>2</th>\n",
       "      <td>25.231.67.78</td>\n",
       "      <td>http://www.superdonald2016.com/</td>\n",
       "    </tr>\n",
       "  </tbody>\n",
       "</table>\n",
       "</div>"
      ],
      "text/plain": [
       "             IP                              URL\n",
       "0   77.23.22.15    http://www.prezbolak2016.com/\n",
       "1   77.23.22.01    http://www.prezobama2016.com/\n",
       "2  25.231.67.78  http://www.superdonald2016.com/"
      ]
     },
     "execution_count": 24,
     "metadata": {},
     "output_type": "execute_result"
    }
   ],
   "source": [
    "query = \"\"\"\n",
    "MATCH (:Scan)-[r:RESULTED_IN*]->(h:Hit)-[rr:RESULTED_IN*]->(hh:Hit)\n",
    "WITH DISTINCT h\n",
    "RETURN h.url as URL, h.ip AS IP\n",
    "\"\"\"\n",
    "\n",
    "graph.run(query).to_data_frame()"
   ]
  },
  {
   "cell_type": "markdown",
   "metadata": {},
   "source": [
    "But what about the other three 'Hits'?  Why weren't they returned in the last two queries?  Simple: the other 'Hits' are websites that did not redirect or result from a redirect themselves."
   ]
  },
  {
   "cell_type": "code",
   "execution_count": 32,
   "metadata": {},
   "outputs": [
    {
     "data": {
      "text/html": [
       "<div>\n",
       "<style scoped>\n",
       "    .dataframe tbody tr th:only-of-type {\n",
       "        vertical-align: middle;\n",
       "    }\n",
       "\n",
       "    .dataframe tbody tr th {\n",
       "        vertical-align: top;\n",
       "    }\n",
       "\n",
       "    .dataframe thead th {\n",
       "        text-align: right;\n",
       "    }\n",
       "</style>\n",
       "<table border=\"1\" class=\"dataframe\">\n",
       "  <thead>\n",
       "    <tr style=\"text-align: right;\">\n",
       "      <th></th>\n",
       "      <th>IP</th>\n",
       "      <th>URL</th>\n",
       "    </tr>\n",
       "  </thead>\n",
       "  <tbody>\n",
       "    <tr>\n",
       "      <th>0</th>\n",
       "      <td>230.24.41.120</td>\n",
       "      <td>http://www.notmyobama.com/</td>\n",
       "    </tr>\n",
       "    <tr>\n",
       "      <th>1</th>\n",
       "      <td>112.43.82.28</td>\n",
       "      <td>http://www.thumpforpresident.com/</td>\n",
       "    </tr>\n",
       "    <tr>\n",
       "      <th>2</th>\n",
       "      <td>77.23.45.16</td>\n",
       "      <td>http://www.preztrump2016.com/</td>\n",
       "    </tr>\n",
       "  </tbody>\n",
       "</table>\n",
       "</div>"
      ],
      "text/plain": [
       "              IP                                URL\n",
       "0  230.24.41.120         http://www.notmyobama.com/\n",
       "1   112.43.82.28  http://www.thumpforpresident.com/\n",
       "2    77.23.45.16      http://www.preztrump2016.com/"
      ]
     },
     "execution_count": 32,
     "metadata": {},
     "output_type": "execute_result"
    }
   ],
   "source": [
    "query = \"\"\"\n",
    "MATCH p=(s:Scan)-[:RESULTED_IN*1..]->(h:Hit)\n",
    "WHERE NOT (h)-[]->() AND NOT (:Hit)-[*]->(h)\n",
    "WITH DISTINCT h\n",
    "RETURN h.url as URL, h.ip AS IP\n",
    "\"\"\"\n",
    "\n",
    "graph.run(query).to_data_frame()"
   ]
  },
  {
   "cell_type": "markdown",
   "metadata": {},
   "source": [
    "What is we simply wanted to know the number of tests that were run for a single scan?"
   ]
  },
  {
   "cell_type": "code",
   "execution_count": 33,
   "metadata": {},
   "outputs": [
    {
     "data": {
      "text/html": [
       "<div>\n",
       "<style scoped>\n",
       "    .dataframe tbody tr th:only-of-type {\n",
       "        vertical-align: middle;\n",
       "    }\n",
       "\n",
       "    .dataframe tbody tr th {\n",
       "        vertical-align: top;\n",
       "    }\n",
       "\n",
       "    .dataframe thead th {\n",
       "        text-align: right;\n",
       "    }\n",
       "</style>\n",
       "<table border=\"1\" class=\"dataframe\">\n",
       "  <thead>\n",
       "    <tr style=\"text-align: right;\">\n",
       "      <th></th>\n",
       "      <th>Test_Count</th>\n",
       "    </tr>\n",
       "  </thead>\n",
       "  <tbody>\n",
       "    <tr>\n",
       "      <th>0</th>\n",
       "      <td>4</td>\n",
       "    </tr>\n",
       "  </tbody>\n",
       "</table>\n",
       "</div>"
      ],
      "text/plain": [
       "   Test_Count\n",
       "0           4"
      ]
     },
     "execution_count": 33,
     "metadata": {},
     "output_type": "execute_result"
    }
   ],
   "source": [
    "query = \"\"\"\n",
    "MATCH (s:Scan { id: '1' })-[r:RESULTED_IN]->()\n",
    "RETURN size(collect(r)) as Test_Count\n",
    "\"\"\"\n",
    "\n",
    "graph.run(query).to_data_frame()"
   ]
  },
  {
   "cell_type": "markdown",
   "metadata": {},
   "source": [
    "Let's try to look at more intereting examples.  What if we wanted to look into the longest path a test took from start to its final 'Hit'?  We could easily write a simple query to find this information out."
   ]
  },
  {
   "cell_type": "code",
   "execution_count": 36,
   "metadata": {},
   "outputs": [
    {
     "data": {
      "text/html": [
       "<div>\n",
       "<style scoped>\n",
       "    .dataframe tbody tr th:only-of-type {\n",
       "        vertical-align: middle;\n",
       "    }\n",
       "\n",
       "    .dataframe tbody tr th {\n",
       "        vertical-align: top;\n",
       "    }\n",
       "\n",
       "    .dataframe thead th {\n",
       "        text-align: right;\n",
       "    }\n",
       "</style>\n",
       "<table border=\"1\" class=\"dataframe\">\n",
       "  <thead>\n",
       "    <tr style=\"text-align: right;\">\n",
       "      <th></th>\n",
       "      <th>Length</th>\n",
       "      <th>Test_ID</th>\n",
       "    </tr>\n",
       "  </thead>\n",
       "  <tbody>\n",
       "    <tr>\n",
       "      <th>0</th>\n",
       "      <td>15</td>\n",
       "      <td>d7de307f-1ecf-4d93-9271-1d318b79e883</td>\n",
       "    </tr>\n",
       "    <tr>\n",
       "      <th>1</th>\n",
       "      <td>13</td>\n",
       "      <td>ad3bc684-0cb5-4860-8afa-77a6dbd3e87c</td>\n",
       "    </tr>\n",
       "    <tr>\n",
       "      <th>2</th>\n",
       "      <td>10</td>\n",
       "      <td>effea848-5f94-4adf-ba99-01ce37960570</td>\n",
       "    </tr>\n",
       "  </tbody>\n",
       "</table>\n",
       "</div>"
      ],
      "text/plain": [
       "   Length                               Test_ID\n",
       "0      15  d7de307f-1ecf-4d93-9271-1d318b79e883\n",
       "1      13  ad3bc684-0cb5-4860-8afa-77a6dbd3e87c\n",
       "2      10  effea848-5f94-4adf-ba99-01ce37960570"
      ]
     },
     "execution_count": 36,
     "metadata": {},
     "output_type": "execute_result"
    }
   ],
   "source": [
    "query = \"\"\"\n",
    "match p=(n:Scan)-[:RESULTED_IN*1..]->(m:Hit)\n",
    "WITH relationships(p) as n, length(p) as Length\n",
    "RETURN n[0].test_id as Test_ID, Length\n",
    "order by Length desc\n",
    "limit 3\n",
    "\"\"\"\n",
    "\n",
    "graph.run(query).to_data_frame()"
   ]
  },
  {
   "cell_type": "markdown",
   "metadata": {},
   "source": [
    "Another interesting question we could ask is: What 'Hop' and 'Hit' carry the most relationships?  The following query will let us know what ip addresses and websites are the most connected."
   ]
  },
  {
   "cell_type": "code",
   "execution_count": 38,
   "metadata": {},
   "outputs": [
    {
     "data": {
      "text/html": [
       "<div>\n",
       "<style scoped>\n",
       "    .dataframe tbody tr th:only-of-type {\n",
       "        vertical-align: middle;\n",
       "    }\n",
       "\n",
       "    .dataframe tbody tr th {\n",
       "        vertical-align: top;\n",
       "    }\n",
       "\n",
       "    .dataframe thead th {\n",
       "        text-align: right;\n",
       "    }\n",
       "</style>\n",
       "<table border=\"1\" class=\"dataframe\">\n",
       "  <thead>\n",
       "    <tr style=\"text-align: right;\">\n",
       "      <th></th>\n",
       "      <th>Relationship_Count</th>\n",
       "      <th>n.ip</th>\n",
       "      <th>n.url</th>\n",
       "    </tr>\n",
       "  </thead>\n",
       "  <tbody>\n",
       "    <tr>\n",
       "      <th>0</th>\n",
       "      <td>4</td>\n",
       "      <td>14.195.80.207</td>\n",
       "      <td>None</td>\n",
       "    </tr>\n",
       "    <tr>\n",
       "      <th>1</th>\n",
       "      <td>3</td>\n",
       "      <td>77.23.45.22</td>\n",
       "      <td>http://www.prezbarak2016.com/</td>\n",
       "    </tr>\n",
       "    <tr>\n",
       "      <th>2</th>\n",
       "      <td>2</td>\n",
       "      <td>77.23.22.01</td>\n",
       "      <td>http://www.prezobama2016.com/</td>\n",
       "    </tr>\n",
       "    <tr>\n",
       "      <th>3</th>\n",
       "      <td>2</td>\n",
       "      <td>77.23.22.15</td>\n",
       "      <td>http://www.prezbolak2016.com/</td>\n",
       "    </tr>\n",
       "    <tr>\n",
       "      <th>4</th>\n",
       "      <td>2</td>\n",
       "      <td>100.204.179.91</td>\n",
       "      <td>None</td>\n",
       "    </tr>\n",
       "  </tbody>\n",
       "</table>\n",
       "</div>"
      ],
      "text/plain": [
       "   Relationship_Count            n.ip                          n.url\n",
       "0                   4   14.195.80.207                           None\n",
       "1                   3     77.23.45.22  http://www.prezbarak2016.com/\n",
       "2                   2     77.23.22.01  http://www.prezobama2016.com/\n",
       "3                   2     77.23.22.15  http://www.prezbolak2016.com/\n",
       "4                   2  100.204.179.91                           None"
      ]
     },
     "execution_count": 38,
     "metadata": {},
     "output_type": "execute_result"
    }
   ],
   "source": [
    "query = \"\"\"\n",
    "MATCH (n)\n",
    "WHERE n:Hit OR n:Hop\n",
    "WITH n, (SIZE((n)-[]->()) + SIZE(()-[]->(n))) AS Relationship_Count\n",
    "RETURN n.ip, n.url, Relationship_Count\n",
    "ORDER By Relationship_Count DESC\n",
    "LIMIT 5\n",
    "\"\"\"\n",
    "\n",
    "graph.run(query).to_data_frame()"
   ]
  },
  {
   "cell_type": "code",
   "execution_count": null,
   "metadata": {},
   "outputs": [],
   "source": []
  }
 ],
 "metadata": {
  "kernelspec": {
   "display_name": "Python 3",
   "language": "python",
   "name": "python3"
  },
  "language_info": {
   "codemirror_mode": {
    "name": "ipython",
    "version": 3
   },
   "file_extension": ".py",
   "mimetype": "text/x-python",
   "name": "python",
   "nbconvert_exporter": "python",
   "pygments_lexer": "ipython3",
   "version": "3.7.0"
  }
 },
 "nbformat": 4,
 "nbformat_minor": 2
}
